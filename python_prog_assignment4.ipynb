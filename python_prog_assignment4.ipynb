{
 "cells": [
  {
   "cell_type": "markdown",
   "id": "5199ee60",
   "metadata": {},
   "source": [
    "## 1.\tWrite a Python Program to Find the Factorial of a Number"
   ]
  },
  {
   "cell_type": "code",
   "execution_count": 1,
   "id": "3b655c03",
   "metadata": {},
   "outputs": [
    {
     "name": "stdout",
     "output_type": "stream",
     "text": [
      "the factorial of 7 is 1\n",
      "the factorial of 7 is 2\n",
      "the factorial of 7 is 6\n",
      "the factorial of 7 is 24\n",
      "the factorial of 7 is 120\n",
      "the factorial of 7 is 720\n",
      "the factorial of 7 is 5040\n"
     ]
    }
   ],
   "source": [
    "num = 7\n",
    "\n",
    "factorial = 1\n",
    "\n",
    "if num < 0:\n",
    "    print(\"factorial for negative number does not exist\")\n",
    "    \n",
    "elif num == 0:\n",
    "    print(\"factorial for 0 is 1\")\n",
    "    \n",
    "else:\n",
    "    for i in range(1,num+1):\n",
    "        factorial = factorial*i\n",
    "        print(\"the factorial of\",num,\"is\", factorial)\n",
    "    \n"
   ]
  },
  {
   "cell_type": "markdown",
   "id": "ddc0379c",
   "metadata": {},
   "source": [
    "## 2.\tWrite a Python Program to Display the multiplication Table?"
   ]
  },
  {
   "cell_type": "code",
   "execution_count": 41,
   "id": "4089ccb9",
   "metadata": {},
   "outputs": [
    {
     "name": "stdout",
     "output_type": "stream",
     "text": [
      "7\n",
      "7 x 1 = 7\n",
      "7 x 2 = 14\n",
      "7 x 3 = 21\n",
      "7 x 4 = 28\n",
      "7 x 5 = 35\n",
      "7 x 6 = 42\n",
      "7 x 7 = 49\n",
      "7 x 8 = 56\n",
      "7 x 9 = 63\n",
      "7 x 10 = 70\n"
     ]
    }
   ],
   "source": [
    "a=int(input())\n",
    "\n",
    "for i in range(1,11):\n",
    "    print(a,\"x\",i, \"=\", a * i)"
   ]
  },
  {
   "cell_type": "markdown",
   "id": "a2e14eb3",
   "metadata": {},
   "source": [
    "## 3.\tWrite a Python Program to Print the Fibonacci sequence?"
   ]
  },
  {
   "cell_type": "code",
   "execution_count": 36,
   "id": "b54d08ae",
   "metadata": {},
   "outputs": [],
   "source": [
    "def fib2(n):\n",
    "    a=1\n",
    "    b=1\n",
    "    output=[]\n",
    "    for i in range(n):\n",
    "        output.append(a)\n",
    "        a,b= b, a+b\n",
    "    return output"
   ]
  },
  {
   "cell_type": "code",
   "execution_count": 37,
   "id": "d142556b",
   "metadata": {},
   "outputs": [
    {
     "data": {
      "text/plain": [
       "[1, 1, 2, 3, 5, 8, 13, 21, 34, 55]"
      ]
     },
     "execution_count": 37,
     "metadata": {},
     "output_type": "execute_result"
    }
   ],
   "source": [
    "fib2(10)"
   ]
  },
  {
   "cell_type": "markdown",
   "id": "3c83c06c",
   "metadata": {},
   "source": [
    "## 4.\tWrite a Python Program to Check Armstrong Number?"
   ]
  },
  {
   "cell_type": "code",
   "execution_count": 17,
   "id": "279c3031",
   "metadata": {},
   "outputs": [
    {
     "name": "stdout",
     "output_type": "stream",
     "text": [
      "enter the number= 232456\n",
      "232456 is not an armstrong number\n"
     ]
    }
   ],
   "source": [
    "a=int(input(\"enter the number= \"))\n",
    "\n",
    "sum=0\n",
    "\n",
    "temp=a\n",
    "\n",
    "while temp > 0:\n",
    "    digit= temp % 10\n",
    "    sum += digit **3\n",
    "    temp //= 10\n",
    "    \n",
    "if a==sum:\n",
    "    print(a,\"is an armstrong number\")\n",
    "    \n",
    "else:\n",
    "    print(a,\"is not an armstrong number\")\n",
    "    "
   ]
  },
  {
   "cell_type": "markdown",
   "id": "ac7c37bf",
   "metadata": {},
   "source": [
    "## 5.\tWrite a Python Program to Find Armstrong Number in an Interval?"
   ]
  },
  {
   "cell_type": "code",
   "execution_count": 8,
   "id": "630d8696",
   "metadata": {},
   "outputs": [
    {
     "name": "stdout",
     "output_type": "stream",
     "text": [
      "1\n",
      "153\n",
      "370\n",
      "371\n",
      "407\n"
     ]
    }
   ],
   "source": [
    "lower= 1\n",
    "upper = 1000\n",
    "\n",
    "\n",
    "\n",
    "for num in range(lower, upper + 1):\n",
    "    order=len(str(num))\n",
    "    sum=0\n",
    "    temp=num\n",
    "\n",
    "    while temp > 0:\n",
    "        digit= temp % 10\n",
    "        sum += digit **3\n",
    "        temp //= 10\n",
    "    \n",
    "    if num==sum:\n",
    "                print(num)\n",
    "    "
   ]
  },
  {
   "cell_type": "markdown",
   "id": "1a9045e2",
   "metadata": {},
   "source": [
    "## 6.\tWrite a Python Program to Find the Sum of Natural Numbers?\n"
   ]
  },
  {
   "cell_type": "code",
   "execution_count": 10,
   "id": "e4d427c1",
   "metadata": {},
   "outputs": [
    {
     "name": "stdout",
     "output_type": "stream",
     "text": [
      "Enter a number:0\n",
      "the sum is 0\n"
     ]
    }
   ],
   "source": [
    "a=int(input(\"Enter a number:\"))\n",
    "\n",
    "if a < 0:\n",
    "    print(\"please enter a positive number\")\n",
    "\n",
    "else:\n",
    "    sum=0\n",
    "    \n",
    "    while (a > 0):\n",
    "        sum += a\n",
    "        a -= 1\n",
    "        \n",
    "    print(\"the sum is\", sum)\n",
    "\n"
   ]
  },
  {
   "cell_type": "code",
   "execution_count": null,
   "id": "be463f7b",
   "metadata": {},
   "outputs": [],
   "source": []
  }
 ],
 "metadata": {
  "kernelspec": {
   "display_name": "Python 3 (ipykernel)",
   "language": "python",
   "name": "python3"
  },
  "language_info": {
   "codemirror_mode": {
    "name": "ipython",
    "version": 3
   },
   "file_extension": ".py",
   "mimetype": "text/x-python",
   "name": "python",
   "nbconvert_exporter": "python",
   "pygments_lexer": "ipython3",
   "version": "3.9.7"
  }
 },
 "nbformat": 4,
 "nbformat_minor": 5
}
